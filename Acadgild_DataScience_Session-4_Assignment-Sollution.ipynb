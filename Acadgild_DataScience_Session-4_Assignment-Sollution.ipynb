{
 "cells": [
  {
   "cell_type": "markdown",
   "metadata": {},
   "source": [
    "# TASK-1"
   ]
  },
  {
   "cell_type": "markdown",
   "metadata": {},
   "source": [
    "1. Write a function to find moving average in an array over a windows."
   ]
  },
  {
   "cell_type": "code",
   "execution_count": 12,
   "metadata": {},
   "outputs": [
    {
     "name": "stdout",
     "output_type": "stream",
     "text": [
      "result: [5.0, 4.666666666666667, 5.666666666666667, 6.666666666666667, 9.666666666666666, 28.666666666666668, 49.333333333333336, 72.66666666666667, 84.0, 93.33333333333333, 116.33333333333333]\n"
     ]
    }
   ],
   "source": [
    "# moving average function over windows\n",
    "def mAvg(list1,k):\n",
    "    length = len(list1)\n",
    "    i = 0\n",
    "    sequence = [] # List declaration\n",
    "    while(i <= (length-k)):\n",
    "        j = 0\n",
    "        sum = 0\n",
    "        while(j < k):\n",
    "            sum = sum + list1[i+j]\n",
    "            j = j+1\n",
    "        element = sum / k\n",
    "        sequence.append(element) # Appending element to sequence\n",
    "        i = i+1\n",
    "    return sequence\n",
    "\n",
    "seq = [3,5,7,2,8,10,11,65,72,81,99,100,150]\n",
    "windw = 3 # Window size definition\n",
    "# Movig average function call.\n",
    "result = mAvg(seq,windw)\n",
    "print(\"result:\",result)"
   ]
  },
  {
   "cell_type": "markdown",
   "metadata": {},
   "source": [
    "# TASK-2"
   ]
  },
  {
   "cell_type": "markdown",
   "metadata": {},
   "source": [
    "1. How to count distance to the previous zero for each value, count the difference back to the previous zero (or the start of the series, whichever is closer. Create a column 'Y'."
   ]
  },
  {
   "cell_type": "code",
   "execution_count": 7,
   "metadata": {},
   "outputs": [],
   "source": [
    "import pandas as pd\n",
    "import numpy as np"
   ]
  },
  {
   "cell_type": "code",
   "execution_count": 8,
   "metadata": {},
   "outputs": [
    {
     "data": {
      "text/html": [
       "<div>\n",
       "<style scoped>\n",
       "    .dataframe tbody tr th:only-of-type {\n",
       "        vertical-align: middle;\n",
       "    }\n",
       "\n",
       "    .dataframe tbody tr th {\n",
       "        vertical-align: top;\n",
       "    }\n",
       "\n",
       "    .dataframe thead th {\n",
       "        text-align: right;\n",
       "    }\n",
       "</style>\n",
       "<table border=\"1\" class=\"dataframe\">\n",
       "  <thead>\n",
       "    <tr style=\"text-align: right;\">\n",
       "      <th></th>\n",
       "      <th>X</th>\n",
       "      <th>Y</th>\n",
       "    </tr>\n",
       "  </thead>\n",
       "  <tbody>\n",
       "    <tr>\n",
       "      <th>0</th>\n",
       "      <td>7</td>\n",
       "      <td>1</td>\n",
       "    </tr>\n",
       "    <tr>\n",
       "      <th>1</th>\n",
       "      <td>2</td>\n",
       "      <td>2</td>\n",
       "    </tr>\n",
       "    <tr>\n",
       "      <th>2</th>\n",
       "      <td>0</td>\n",
       "      <td>0</td>\n",
       "    </tr>\n",
       "    <tr>\n",
       "      <th>3</th>\n",
       "      <td>3</td>\n",
       "      <td>1</td>\n",
       "    </tr>\n",
       "    <tr>\n",
       "      <th>4</th>\n",
       "      <td>4</td>\n",
       "      <td>2</td>\n",
       "    </tr>\n",
       "    <tr>\n",
       "      <th>5</th>\n",
       "      <td>2</td>\n",
       "      <td>3</td>\n",
       "    </tr>\n",
       "    <tr>\n",
       "      <th>6</th>\n",
       "      <td>5</td>\n",
       "      <td>4</td>\n",
       "    </tr>\n",
       "    <tr>\n",
       "      <th>7</th>\n",
       "      <td>0</td>\n",
       "      <td>0</td>\n",
       "    </tr>\n",
       "    <tr>\n",
       "      <th>8</th>\n",
       "      <td>3</td>\n",
       "      <td>1</td>\n",
       "    </tr>\n",
       "    <tr>\n",
       "      <th>9</th>\n",
       "      <td>4</td>\n",
       "      <td>2</td>\n",
       "    </tr>\n",
       "  </tbody>\n",
       "</table>\n",
       "</div>"
      ],
      "text/plain": [
       "   X  Y\n",
       "0  7  1\n",
       "1  2  2\n",
       "2  0  0\n",
       "3  3  1\n",
       "4  4  2\n",
       "5  2  3\n",
       "6  5  4\n",
       "7  0  0\n",
       "8  3  1\n",
       "9  4  2"
      ]
     },
     "execution_count": 8,
     "metadata": {},
     "output_type": "execute_result"
    }
   ],
   "source": [
    "# Function Definition to calculate distance from previous zero or beging of series\n",
    "def distPzero(df):\n",
    "    j = 0\n",
    "    i = 0\n",
    "    list1 = []\n",
    "    while(i < df.size):\n",
    "    #print (\"inside while::\")\n",
    "        if df['X'][i]!=0:\n",
    "            j = j+1\n",
    "        else:\n",
    "            j = 0\n",
    "        list1.append(j) # Appending j to list1\n",
    "        i += 1\n",
    "    return list1\n",
    "# Creating data freame with default index whose column is 'X'\n",
    "df = pd.DataFrame({'X':[7,2,0,3,4,2,5,0,3,4]})\n",
    "# Function call\n",
    "list1 = distPzero(df)\n",
    "# 'Y' Column creation in data frame 'df'\n",
    "df ['Y'] = list1\n",
    "df"
   ]
  },
  {
   "cell_type": "markdown",
   "metadata": {},
   "source": [
    "2. Create DatetimeIndex that contains each business day of 2015 and use it to index a series of random numbers."
   ]
  },
  {
   "cell_type": "code",
   "execution_count": 13,
   "metadata": {},
   "outputs": [
    {
     "data": {
      "text/plain": [
       "2015-01-01    1.516938\n",
       "2015-01-02   -0.330319\n",
       "2015-01-05    0.029035\n",
       "2015-01-06    1.103058\n",
       "2015-01-07   -0.378077\n",
       "Freq: B, dtype: float64"
      ]
     },
     "execution_count": 13,
     "metadata": {},
     "output_type": "execute_result"
    }
   ],
   "source": [
    "from pandas.tseries.offsets import BusinessDay\n",
    "# Creating range of business day for complete year 2015\n",
    "rng = pd.date_range(start='1/1/2015',end = '31/12/2015', freq=BusinessDay())\n",
    "#print(len(rng))\n",
    "# Creating series of random number with date index\n",
    "ts = pd.Series(np.random.randn(len(rng)),index = rng)\n",
    "ts.head()"
   ]
  },
  {
   "cell_type": "markdown",
   "metadata": {},
   "source": [
    "3. Find the sum of the values in series for every wednesday."
   ]
  },
  {
   "cell_type": "code",
   "execution_count": 14,
   "metadata": {},
   "outputs": [
    {
     "data": {
      "text/plain": [
       "9.67451100660605"
      ]
     },
     "execution_count": 14,
     "metadata": {},
     "output_type": "execute_result"
    }
   ],
   "source": [
    "ts[4::5].sum()"
   ]
  },
  {
   "cell_type": "markdown",
   "metadata": {},
   "source": [
    "4. Average for each calender month of series."
   ]
  },
  {
   "cell_type": "code",
   "execution_count": 15,
   "metadata": {},
   "outputs": [
    {
     "data": {
      "text/plain": [
       "2015-01-31   -0.025571\n",
       "2015-02-28    0.015169\n",
       "2015-03-31    0.154935\n",
       "2015-04-30    0.134393\n",
       "2015-05-31   -0.123804\n",
       "2015-06-30    0.545006\n",
       "2015-07-31    0.014652\n",
       "2015-08-31    0.144862\n",
       "2015-09-30    0.410051\n",
       "2015-10-31   -0.498528\n",
       "2015-11-30    0.418999\n",
       "2015-12-31   -0.145022\n",
       "Freq: M, dtype: float64"
      ]
     },
     "execution_count": 15,
     "metadata": {},
     "output_type": "execute_result"
    }
   ],
   "source": [
    "ts.resample('M').mean()"
   ]
  },
  {
   "cell_type": "markdown",
   "metadata": {},
   "source": [
    "5. For each group of four consecutive calendar months in series, find the date on which the highest value occured."
   ]
  },
  {
   "cell_type": "code",
   "execution_count": 16,
   "metadata": {},
   "outputs": [
    {
     "name": "stdout",
     "output_type": "stream",
     "text": [
      "2015-03-27    2.732503\n",
      "Freq: B, dtype: float64\n",
      "2015-06-04    2.760922\n",
      "Freq: B, dtype: float64\n",
      "2015-11-16    2.623409\n",
      "Freq: B, dtype: float64\n"
     ]
    }
   ],
   "source": [
    "zs = ts.resample('M').max() # series of maximum value for each month\n",
    "i= 0 \n",
    "while(i < zs.size):\n",
    "    ms = zs[i:i+4].max() # maximum value in group of 4 month\n",
    "    print(ts[ts == ms]) # DATE time index for maximum value in group of 4 month\n",
    "    i += 4"
   ]
  }
 ],
 "metadata": {
  "kernelspec": {
   "display_name": "Python 3",
   "language": "python",
   "name": "python3"
  },
  "language_info": {
   "codemirror_mode": {
    "name": "ipython",
    "version": 3
   },
   "file_extension": ".py",
   "mimetype": "text/x-python",
   "name": "python",
   "nbconvert_exporter": "python",
   "pygments_lexer": "ipython3",
   "version": "3.6.5"
  }
 },
 "nbformat": 4,
 "nbformat_minor": 2
}
